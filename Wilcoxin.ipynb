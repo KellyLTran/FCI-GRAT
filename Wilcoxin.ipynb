{
 "cells": [
  {
   "cell_type": "markdown",
   "id": "642d538c-b1bb-42ae-b827-142b70d58b52",
   "metadata": {},
   "source": [
    "Wilcoxon Rank-Sum produces a test statistic value (i.e., z-score), which is converted into a “p-value.” A p-value is the probability that the null hypothesis – that both populations are the same – is true. In other words, a lower p-value reflects a value that is more significantly different across populations."
   ]
  },
  {
   "cell_type": "code",
   "execution_count": 4,
   "id": "e19c3620-bd57-40ad-90bf-1a7a98efda62",
   "metadata": {},
   "outputs": [],
   "source": [
    "import scipy.stats as stats"
   ]
  },
  {
   "cell_type": "code",
   "execution_count": 10,
   "id": "8a81dce1-ba51-4e21-9c27-5ac85cf76ed4",
   "metadata": {},
   "outputs": [],
   "source": [
    "BlackIncome23 = [33590, 23750, 45373, 36900, 26255, 36538, 37525, 42721, 53872, 53872, 53872, 19154, 123926, 53872, 53053, 77741, 39861, 28306, 33697, 28804, 48506, 53872, 64779, 53872, 47096, 46100, 53872, 108586, 31688, 34205, 53872, 53872, 9362, 56117, 57996, 116638, 53872, 53872, 68466, 53872, 45879, 35049, 29233, 48750, 53872]"
   ]
  },
  {
   "cell_type": "code",
   "execution_count": 11,
   "id": "25aa1181-d463-43f8-8682-3b232dcbaa95",
   "metadata": {},
   "outputs": [],
   "source": [
    "BlackIncome14 = [17582, 24103, 33148, 16343, 20497, 31150, 29125, 31144, 35625, 25784, 25784, 25784, 56250, 42059, 25347, 62716, 28098, 30093, 9939, 28523, 14779, 15435, 23750, 113047, 17188, 16368, 51548, 19207, 27543, 22768, 25784, 24350, 25625, 35083, 55089, 54943, 65231, 25784, 17306, 52132, 20692, 20774, 34583, 24063, 19531]"
   ]
  },
  {
   "cell_type": "code",
   "execution_count": 12,
   "id": "ae6a903e-8d12-41a0-bc62-35cd42289c2d",
   "metadata": {},
   "outputs": [
    {
     "data": {
      "text/plain": [
       "WilcoxonResult(statistic=102.0, pvalue=2.7273646402462443e-06)"
      ]
     },
     "execution_count": 12,
     "metadata": {},
     "output_type": "execute_result"
    }
   ],
   "source": [
    "# conduct the Wilcoxon-Signed Rank Test\n",
    "stats.wilcoxon(BlackIncome23, BlackIncome14)"
   ]
  },
  {
   "cell_type": "code",
   "execution_count": 18,
   "id": "fa4e4735-e4d9-4d97-ad90-c267f5f624f8",
   "metadata": {},
   "outputs": [],
   "source": [
    "Asian23 = [\n",
    "    116250, 116250, 116250, 116250, 116250, 116250, 116250, 90234, 54028, 26771, 2499, 116250, 94883, 100938, 116250, 2499, 116250, 102500, 116250, 40682, 43567, 116250, 116250, 116250, 116250, 96310, 228233, 130703, 116250, 116250, 116250, 116250, 116250, 116250, 116250, 216268, 200547, 116250, 146618, 116250, 116250, 131000, 131426, 186667, 249432\n",
    "]"
   ]
  },
  {
   "cell_type": "code",
   "execution_count": 19,
   "id": "068ae9dc-1294-4d16-b069-3dc56e84edef",
   "metadata": {},
   "outputs": [],
   "source": [
    "Asian14 = [\n",
    "    6900, 44355.5, 44355.5, 44355.5, 44355.5, 44355.5, 26121, 27250, 43446, 19583, 44355.5, 31750, 92188, 24632, 66705, 28281, 44355.5, 22125, 45265, 25208, 2499, 15750, 39083, 48717, 44355.5, 185114, 107841, 98988, 44355.5, 44355.5, 44355.5, 44355.5, 44355.5, 122656, 181750, 66389, 166250, 179531, 103365, 44355.5, 18304, 44355.5, 158875, 44355.5, 44355.5\n",
    "]"
   ]
  },
  {
   "cell_type": "code",
   "execution_count": 20,
   "id": "485f5b39-beda-49c6-a41c-d679511e6cfc",
   "metadata": {},
   "outputs": [
    {
     "data": {
      "text/plain": [
       "WilcoxonResult(statistic=94.0, pvalue=1.6332970984114276e-06)"
      ]
     },
     "execution_count": 20,
     "metadata": {},
     "output_type": "execute_result"
    }
   ],
   "source": [
    "# conduct the Wilcoxon-Signed Rank Test\n",
    "stats.wilcoxon(Asian23, Asian14)"
   ]
  },
  {
   "cell_type": "code",
   "execution_count": 22,
   "id": "15339580-3f14-4411-ba67-9f4b9e635aa9",
   "metadata": {},
   "outputs": [],
   "source": [
    "white23 = [47883, 54063, 66172, 58613, 33214, 64792, 17083, 47436, 35495, 27500, 76875, 40636, 89500, 56864, 81991, 55237, 65476, 24130, 31782, 26635, 44531, 42500, 81769, 80091, 37535, 78681, 81313, 107905, 27714, 56983, 54555, 82143, 64688, 93678, 94276, 98701, 130903, 134732, 100509, 79301, 48714, 42813, 57689, 69583, 91042]"
   ]
  },
  {
   "cell_type": "code",
   "execution_count": 23,
   "id": "6755b015-1683-4310-9dc1-242162e2e133",
   "metadata": {},
   "outputs": [],
   "source": [
    "white14 = [27550, 32434, 46844, 41083, 38906, 31087, 30938, 29004, 31957, 20350, 33438, 30673, 75564, 58906, 65394, 46932, 41875, 17976, 19282, 16576, 25013, 26597, 40573, 79038, 40865, 52125, 58136, 91136, 25441, 50822, 47734, 48125, 59239, 66306, 67692, 81521, 91477, 112228, 82426, 58850, 31500, 58000, 40922, 57065, 73708]"
   ]
  },
  {
   "cell_type": "code",
   "execution_count": 25,
   "id": "2764a1dc-eac5-4452-a382-efab2539c6c5",
   "metadata": {},
   "outputs": [
    {
     "data": {
      "text/plain": [
       "WilcoxonResult(statistic=49.0, pvalue=1.2351374723835122e-07)"
      ]
     },
     "execution_count": 25,
     "metadata": {},
     "output_type": "execute_result"
    }
   ],
   "source": [
    "# conduct the Wilcoxon-Signed Rank Test\n",
    "stats.wilcoxon(white23, white14)"
   ]
  },
  {
   "cell_type": "code",
   "execution_count": 26,
   "id": "2a5db7ea-3aac-425d-84d6-2b1853b9899c",
   "metadata": {},
   "outputs": [],
   "source": [
    "Hispanic23 = [5417, 71607, 81300, 71607, 71607, 47209, 31161, 71607, 43750, 71607, 71607, 71607, 155091, 71607, 71607, 73750, 71607, 71607, 71607, 71607, 41250, 32604, 71607, 39909, 71607, 71607, 58059, 132946, 71607, 71607, 71607, 71607, 71607, 111944, 71607, 86779, 93393, 110972, 158355, 113237, 35477, 71607, 51333, 71607, 106450]"
   ]
  },
  {
   "cell_type": "code",
   "execution_count": 27,
   "id": "b2c3aae7-bba8-44a3-8135-2622f738b8ac",
   "metadata": {},
   "outputs": [],
   "source": [
    "Hispanic14 = [19176, 38068, 7917, 14972, 36136, 36136, 6856, 23750, 21528, 18661, 36136, 12306, 72095, 108333, 56795, 16691, 36136, 6625, 11902, 40278, 3309, 10536, 27449, 29668, 32955, 25905, 54688, 131184, 36136, 37500, 37500, 55096, 36136, 39511, 73750, 73621, 122063, 111458, 55579, 46875, 40481, 36136, 20278, 51250, 23162]"
   ]
  },
  {
   "cell_type": "code",
   "execution_count": 28,
   "id": "cf3cfcdf-caf6-4d6e-8606-8f57049220ca",
   "metadata": {},
   "outputs": [
    {
     "data": {
      "text/plain": [
       "WilcoxonResult(statistic=62.0, pvalue=2.704513792572191e-07)"
      ]
     },
     "execution_count": 28,
     "metadata": {},
     "output_type": "execute_result"
    }
   ],
   "source": [
    "# conduct the Wilcoxon-Signed Rank Test\n",
    "stats.wilcoxon(Hispanic23, Hispanic14)"
   ]
  },
  {
   "cell_type": "code",
   "execution_count": null,
   "id": "d539b930-73fd-4f3c-a92c-c245cbd9c572",
   "metadata": {},
   "outputs": [],
   "source": []
  }
 ],
 "metadata": {
  "kernelspec": {
   "display_name": "Python 3 (ipykernel)",
   "language": "python",
   "name": "python3"
  },
  "language_info": {
   "codemirror_mode": {
    "name": "ipython",
    "version": 3
   },
   "file_extension": ".py",
   "mimetype": "text/x-python",
   "name": "python",
   "nbconvert_exporter": "python",
   "pygments_lexer": "ipython3",
   "version": "3.9.7"
  }
 },
 "nbformat": 4,
 "nbformat_minor": 5
}
